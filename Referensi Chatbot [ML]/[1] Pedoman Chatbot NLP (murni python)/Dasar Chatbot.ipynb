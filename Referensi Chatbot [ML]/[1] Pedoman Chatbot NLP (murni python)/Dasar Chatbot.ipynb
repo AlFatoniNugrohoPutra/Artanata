{
 "cells": [
  {
   "cell_type": "code",
   "execution_count": 20,
   "metadata": {},
   "outputs": [
    {
     "name": "stdout",
     "output_type": "stream",
     "text": [
      "a\n"
     ]
    }
   ],
   "source": [
    "print('a')"
   ]
  },
  {
   "cell_type": "code",
   "execution_count": 1,
   "metadata": {},
   "outputs": [],
   "source": [
    "import nltk\n",
    "import warnings"
   ]
  },
  {
   "cell_type": "code",
   "execution_count": 22,
   "metadata": {},
   "outputs": [],
   "source": [
    "warnings.filterwarnings('ignore')"
   ]
  },
  {
   "cell_type": "code",
   "execution_count": 23,
   "metadata": {},
   "outputs": [],
   "source": [
    "# nltk.download()"
   ]
  },
  {
   "cell_type": "code",
   "execution_count": 24,
   "metadata": {},
   "outputs": [],
   "source": [
    "import numpy as np\n",
    "import random\n",
    "import string"
   ]
  },
  {
   "cell_type": "code",
   "execution_count": 25,
   "metadata": {},
   "outputs": [],
   "source": [
    "f=open('chatbot.txt','r',errors = 'ignore')\n",
    "raw=f.read()\n",
    "raw=raw.lower()"
   ]
  },
  {
   "cell_type": "code",
   "execution_count": 26,
   "metadata": {},
   "outputs": [],
   "source": [
    "# nltk.download('punkt')"
   ]
  },
  {
   "cell_type": "code",
   "execution_count": 27,
   "metadata": {},
   "outputs": [],
   "source": [
    "# nltk.download('wordnet')"
   ]
  },
  {
   "cell_type": "code",
   "execution_count": 28,
   "metadata": {},
   "outputs": [],
   "source": [
    "sent_tokens = nltk.sent_tokenize(raw)# converts to list of sentences\n",
    "word_tokens = nltk.word_tokenize(raw)# converts to list of words"
   ]
  },
  {
   "cell_type": "code",
   "execution_count": 29,
   "metadata": {},
   "outputs": [
    {
     "data": {
      "text/plain": [
       "['stopped', 'growth', ':', '--', '>']"
      ]
     },
     "execution_count": 29,
     "metadata": {},
     "output_type": "execute_result"
    }
   ],
   "source": [
    "sent_tokens[:2]\n",
    "word_tokens[:5]"
   ]
  },
  {
   "cell_type": "code",
   "execution_count": 30,
   "metadata": {},
   "outputs": [
    {
     "data": {
      "text/plain": [
       "\"\\nstopped growth :-->  \\npred_diseases:'growth disorder, turner syndrome',\\nanalgesics: 'thyroid hormone pills, growth hormone injections', \\ntreatment scans:'bone age xray, mri scan', \\n'meat, seafood,leafygreens,diary,spinach, beef'\\n -------> enter your pincode to see available doctors near by you .\""
      ]
     },
     "execution_count": 30,
     "metadata": {},
     "output_type": "execute_result"
    }
   ],
   "source": [
    "sent_tokens[0]"
   ]
  },
  {
   "cell_type": "code",
   "execution_count": 31,
   "metadata": {},
   "outputs": [
    {
     "data": {
      "text/plain": [
       "['stopped', 'growth', ':', '--', '>']"
      ]
     },
     "execution_count": 31,
     "metadata": {},
     "output_type": "execute_result"
    }
   ],
   "source": [
    "word_tokens[:5]"
   ]
  },
  {
   "cell_type": "code",
   "execution_count": 32,
   "metadata": {},
   "outputs": [],
   "source": [
    "lemmer = nltk.stem.WordNetLemmatizer()\n",
    "def LemTokens(tokens):\n",
    "    return [lemmer.lemmatize(token) for token in tokens]\n",
    "remove_punct_dict = dict((ord(punct), None) for punct in string.punctuation)\n",
    "def LemNormalize(text):\n",
    "    return LemTokens(nltk.word_tokenize(text.lower().translate(remove_punct_dict)))"
   ]
  },
  {
   "cell_type": "code",
   "execution_count": 33,
   "metadata": {},
   "outputs": [],
   "source": [
    "GREETING_INPUTS = (\"hello\", \"hi\", \"greetings\", \"sup\", \"what's up\",\"hey\",)\n",
    "GREETING_RESPONSES = [\"Dengan siapa ini?\", \"Boleh tahu siapa nama anda\", \"Nama anda?\", \"Nama\"]\n",
    "\n",
    "def greeting(sentence):\n",
    "    for word in sentence.split():\n",
    "        if word.lower() in GREETING_INPUTS:\n",
    "            return random.choice(GREETING_RESPONSES)"
   ]
  },
  {
   "cell_type": "code",
   "execution_count": 34,
   "metadata": {},
   "outputs": [],
   "source": [
    "from sklearn.feature_extraction.text import TfidfVectorizer\n",
    "from sklearn.metrics.pairwise import cosine_similarity"
   ]
  },
  {
   "cell_type": "code",
   "execution_count": 53,
   "metadata": {},
   "outputs": [
    {
     "name": "stdout",
     "output_type": "stream",
     "text": [
      "ROBO: Hallo, nama saya ROBO. Saya akan jawab pertanyaan tentang keuangan. Jika ingin keluar ketik Bye!\n",
      "hi\n",
      "ROBOGREET: Dengan siapa ini?\n",
      "alfa\n",
      "ROBO : Apa yang bisa saya bantu,alfa\n",
      "1. Laporan keuangan \n",
      "2. Informasi\n",
      "1\n",
      "ROBO : Berapa penjualan hari ini alfa\n",
      "762\n",
      "ROBO : Berapa retur hari ini alfa\n",
      "73267\n",
      "ROBO : Terima kasih, data anda sudah kami proses. Ketik cetak atau informasi\n",
      "informasi\n",
      "ROBO : Apa yang anda pengen ketahui\n",
      "High body temperature\n",
      "ROBORESPON: high body temperature, severe headache and tiredness-->\n",
      "pred_diseases: 'fever', \n",
      "analgesics: 'paracetemol or aspirin', \n",
      "treatment scans:'tylenol, ibuprofen to treat stomach irritation',\n",
      "diet:  'fluid intake like gatorage, fruitjuices or milk'\n",
      "-------> enter your pincode to see available doctors near by you.\n",
      "bye\n",
      "ROBO: Bye! take care..74029\n"
     ]
    }
   ],
   "source": [
    "def name(user_response):\n",
    "    nama = user_response\n",
    "    return nama\n",
    "def response(user_response):\n",
    "    robo_response=''\n",
    "    sent_tokens.append(user_response)\n",
    "    TfidfVec = TfidfVectorizer(tokenizer=LemNormalize, stop_words='english')\n",
    "    tfidf = TfidfVec.fit_transform(sent_tokens)\n",
    "    vals = cosine_similarity(tfidf[-1], tfidf)\n",
    "    idx=vals.argsort()[0][-2]\n",
    "    flat = vals.flatten()\n",
    "    flat.sort()\n",
    "    req_tfidf = flat[-2]\n",
    "    if(req_tfidf==0):\n",
    "        robo_response=robo_response+\"I am sorry! I don't understand you\"\n",
    "        return robo_response\n",
    "    else:\n",
    "        robo_response = robo_response+sent_tokens[idx]\n",
    "        return robo_response\n",
    "    \n",
    "flag=True\n",
    "print(\"ROBO: Hallo, nama saya ROBO. Saya akan jawab pertanyaan tentang keuangan. Jika ingin keluar ketik Bye!\")\n",
    "\n",
    "while(flag==True):\n",
    "    user_response = input()\n",
    "    user_response=user_response.lower()\n",
    "    if(user_response!='bye'):\n",
    "        if(user_response=='thanks' or user_response=='thank you' ):\n",
    "            flag=False\n",
    "            print(\"ROBO: You are welcome..\")\n",
    "        else:\n",
    "            if(greeting(user_response)!=None):\n",
    "                print(\"ROBOGREET: \"+greeting(user_response))\n",
    "\n",
    "            else:\n",
    "                print(\"ROBO : Apa yang bisa saya bantu,\"+name(user_response))\n",
    "                print(\"1. Laporan keuangan \\n2. Informasi\")\n",
    "                user_respon = input()\n",
    "                if (user_respon==\"Laporan keuangan\" or user_respon==\"1\"):\n",
    "                    print(\"ROBO : Berapa penjualan hari ini \"+name(user_response))\n",
    "                    penjualan = input()\n",
    "                    print(\"ROBO : Berapa retur hari ini \"+name(user_response))\n",
    "                    retur = input()\n",
    "                    print(\"ROBO : Terima kasih, data anda sudah kami proses. Ketik cetak atau informasi\")\n",
    "                    respon = input()\n",
    "                    if (respon==\"informasi\"):\n",
    "                        print(\"ROBO : Apa yang anda pengen ketahui\")\n",
    "                        user_response = input()\n",
    "                        print(\"ROBORESPON: \",end=\"\")\n",
    "                        print(response(user_response))\n",
    "                        sent_tokens.remove(user_response)\n",
    "                    \n",
    "#                 respon = int(user_response)\n",
    "    else:\n",
    "        flag=False\n",
    "        print(\"ROBO: Bye! take care..\" + str(int(penjualan)+int(retur)))   "
   ]
  },
  {
   "cell_type": "code",
   "execution_count": null,
   "metadata": {},
   "outputs": [],
   "source": []
  },
  {
   "cell_type": "code",
   "execution_count": 22,
   "metadata": {},
   "outputs": [
    {
     "name": "stdout",
     "output_type": "stream",
     "text": [
      "10\n"
     ]
    }
   ],
   "source": [
    "print(10)"
   ]
  },
  {
   "cell_type": "code",
   "execution_count": null,
   "metadata": {},
   "outputs": [],
   "source": []
  }
 ],
 "metadata": {
  "kernelspec": {
   "display_name": "Python 3",
   "language": "python",
   "name": "python3"
  },
  "language_info": {
   "codemirror_mode": {
    "name": "ipython",
    "version": 3
   },
   "file_extension": ".py",
   "mimetype": "text/x-python",
   "name": "python",
   "nbconvert_exporter": "python",
   "pygments_lexer": "ipython3",
   "version": "3.8.8"
  }
 },
 "nbformat": 4,
 "nbformat_minor": 4
}
